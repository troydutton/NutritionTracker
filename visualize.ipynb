{
 "cells": [
  {
   "cell_type": "code",
   "execution_count": null,
   "metadata": {},
   "outputs": [],
   "source": [
    "import os\n",
    "\n",
    "import matplotlib.pyplot as plt\n",
    "from PIL import Image\n",
    "\n",
    "IMAGE_ROOT = \"data/OID/train/images/\"\n",
    "LABEL_ROOT = \"data/OID/train/labels/\"\n",
    "\n",
    "class_names = [\n",
    "    \"hot-dog\", \"Apple\", \"Artichoke\", \"Asparagus\", \"Bagel\", \n",
    "    \"Baked-goods\", \"Banana\", \"Beer\", \"Bell-pepper\", \"Bread\", \n",
    "    \"Broccoli\", \"Burrito\", \"Cabbage\", \"Cake\", \"Candy\",\n",
    "    \"Cantaloupe\", \"Carrot\", \"Common-fig\", \"Cookie\", \"Dessert\",\n",
    "    \"French-fries\", \"Grape\", \"Guacamole\", \"Hot-dog\", \"Ice-cream\",\n",
    "    \"Muffin\", \"Orange\", \"Pancake\", \"Pear\", \"Popcorn\",\n",
    "    \"Pretzel\", \"Strawberry\", \"Tomato\", \"Waffle\", \"food-drinks\",\n",
    "    \"Cheese\", \"Cocktail\", \"Coffee\", \"Cooking-spray\", \"Crab\",\n",
    "    \"Croissant\", \"Cucumber\", \"Doughnut\", \"Egg\", \"Fruit\",\n",
    "    \"Grapefruit\", \"Hamburger\", \"Honeycomb\", \"Juice\", \"Lemon\",\n",
    "    \"Lobster\", \"Mango\", \"Milk\", \"Mushroom\", \"Oyster\",\n",
    "    \"Pasta\", \"Pastry\", \"Peach\", \"Pineapple\", \"Pizza\",\n",
    "    \"Pomegranate\", \"Potato\", \"Pumpkin\", \"Radish\", \"Salad\",\n",
    "    \"food\", \"Sandwich\", \"Shrimp\", \"Squash\", \"Squid\",\n",
    "    \"Submarine-sandwich\", \"Sushi\", \"Taco\", \"Tart\",\n",
    "    \"Tea\", \"Vegetable\", \"Watermelon\", \"Wine\", \"Winter-melon\",\n",
    "    \"Zucchini\", \"Banh_mi\", \"Banh_trang_tron\", \"Banh_xeo\",\n",
    "    \"Bun_bo_Hue\", \"Bun_dau\", \"Com_tam\", \"Goi_cuon\", \"Pho\",\n",
    "    \"Hu_tieu\", \"Xoi\"]"
   ]
  },
  {
   "cell_type": "code",
   "execution_count": null,
   "metadata": {},
   "outputs": [],
   "source": [
    "# Get a list of all the images\n",
    "image_names = os.listdir(IMAGE_ROOT)\n",
    "\n",
    "def get_annotations(label_path: str):\n",
    "    with open(label_path, \"r\") as f:\n",
    "        lines = f.readlines()\n",
    "\n",
    "\n",
    "    annotations = []\n",
    "\n",
    "    for line in lines:\n",
    "        id, *box = line.split()\n",
    "\n",
    "        id, box = int(id), list(map(float, box))\n",
    "\n",
    "        annotations.append((id, box))\n",
    "\n",
    "    return annotations "
   ]
  },
  {
   "cell_type": "code",
   "execution_count": null,
   "metadata": {},
   "outputs": [],
   "source": [
    "image_name = image_names[10]\n",
    "\n",
    "image = Image.open(IMAGE_ROOT + image_name)\n",
    "\n",
    "annotations = get_annotations(LABEL_ROOT + image_name.replace(\".jpg\", \".txt\"))\n",
    "\n",
    "fig, ax = plt.subplots()\n",
    "\n",
    "ax.imshow(image)\n",
    "\n",
    "for id, box in annotations:\n",
    "    xc, yc, w, h = box\n",
    "\n",
    "    x1, y1 = xc - w/2, yc - h/2\n",
    "\n",
    "    x1, y1, w, h = x1 * image.width, y1 * image.height, w * image.width, h * image.height\n",
    "\n",
    "    ax.add_patch(plt.Rectangle((x1, y1), w, h, fill=False, edgecolor=\"red\"))\n",
    "\n",
    "    ax.text(x1, y1, class_names[id], color=\"red\")\n",
    "\n",
    "plt.show()"
   ]
  }
 ],
 "metadata": {
  "kernelspec": {
   "display_name": "nutrient-tracker",
   "language": "python",
   "name": "python3"
  },
  "language_info": {
   "codemirror_mode": {
    "name": "ipython",
    "version": 3
   },
   "file_extension": ".py",
   "mimetype": "text/x-python",
   "name": "python",
   "nbconvert_exporter": "python",
   "pygments_lexer": "ipython3",
   "version": "3.10.0"
  }
 },
 "nbformat": 4,
 "nbformat_minor": 2
}
